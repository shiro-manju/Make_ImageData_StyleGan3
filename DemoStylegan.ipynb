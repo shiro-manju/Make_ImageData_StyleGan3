{
 "cells": [
  {
   "cell_type": "code",
   "execution_count": 1,
   "id": "8e5150e7",
   "metadata": {},
   "outputs": [
    {
     "data": {
      "text/plain": [
       "'1.10.0+cu113'"
      ]
     },
     "execution_count": 1,
     "metadata": {},
     "output_type": "execute_result"
    }
   ],
   "source": [
    "import torch\n",
    "torch.__version__"
   ]
  },
  {
   "cell_type": "code",
   "execution_count": 2,
   "id": "ff81d1d9",
   "metadata": {},
   "outputs": [
    {
     "name": "stdout",
     "output_type": "stream",
     "text": [
      "True\n",
      "GeForce RTX 2060\n",
      "1\n"
     ]
    }
   ],
   "source": [
    "print(torch.cuda.is_available())\n",
    "print(torch.cuda.get_device_name())\n",
    "print(torch.cuda.device_count())"
   ]
  },
  {
   "cell_type": "code",
   "execution_count": 3,
   "id": "9adeb648",
   "metadata": {},
   "outputs": [
    {
     "name": "stdout",
     "output_type": "stream",
     "text": [
      "C:\\Users\\windo\\Documents\\workspace\\StyleGAN3\\stylegan3\n"
     ]
    }
   ],
   "source": [
    "%cd ./stylegan3/"
   ]
  },
  {
   "cell_type": "markdown",
   "id": "6110a20e",
   "metadata": {},
   "source": [
    "## Getting Started"
   ]
  },
  {
   "cell_type": "markdown",
   "id": "4d1b4436",
   "metadata": {},
   "source": [
    "--trunc: 1が出力層。数字を大きくするほど中間層（特徴表現領域）での出力が得られる？？\n",
    "--seeds: 入力値。この数字を変えれば、生成画像が変化する。"
   ]
  },
  {
   "cell_type": "code",
   "execution_count": 8,
   "id": "b97deb62",
   "metadata": {},
   "outputs": [
    {
     "name": "stdout",
     "output_type": "stream",
     "text": [
      "Loading networks from \"https://api.ngc.nvidia.com/v2/models/nvidia/research/stylegan3/versions/1/files/stylegan3-r-afhqv2-512x512.pkl\"...\n",
      "Generating image for seed 100 (0/1) ...\n",
      "Setting up PyTorch plugin \"bias_act_plugin\"... Done.\n",
      "Setting up PyTorch plugin \"filtered_lrelu_plugin\"... Done.\n"
     ]
    }
   ],
   "source": [
    "!python gen_images.py --outdir=out --trunc=1 --seeds=100 \\\n",
    "    --network=https://api.ngc.nvidia.com/v2/models/nvidia/research/stylegan3/versions/1/files/stylegan3-r-afhqv2-512x512.pkl"
   ]
  },
  {
   "cell_type": "markdown",
   "id": "8386db78",
   "metadata": {},
   "source": [
    "## Finetunng"
   ]
  },
  {
   "cell_type": "markdown",
   "id": "b8bca29f",
   "metadata": {},
   "source": [
    "- pre-modelとして人の顔画像で学習したFlickr-Faces-HQ Dataset (FFHQ)のmodelを使用\n",
    "- 学習用にはtorch idで使用されたPartialREID等の画像を使用"
   ]
  },
  {
   "cell_type": "code",
   "execution_count": null,
   "id": "73b9b04b",
   "metadata": {},
   "outputs": [],
   "source": [
    "!python train.py --outdir=./training-runs --cfg=stylegan3-r --data=../traindata_for_stylegan3.zip \\\n",
    "    --gpus=1 --batch=4 --mbstd-group=2 --gamma=6.6 --mirror=1 --kimg=5000 --snap=5 \\\n",
    "    --resume=https://api.ngc.nvidia.com/v2/models/nvidia/research/stylegan3/versions/1/files/stylegan3-r-ffhqu-1024x1024.pkl"
   ]
  },
  {
   "cell_type": "code",
   "execution_count": null,
   "id": "e9bc6503",
   "metadata": {},
   "outputs": [],
   "source": []
  }
 ],
 "metadata": {
  "kernelspec": {
   "display_name": "Python 3",
   "language": "python",
   "name": "python3"
  },
  "language_info": {
   "codemirror_mode": {
    "name": "ipython",
    "version": 3
   },
   "file_extension": ".py",
   "mimetype": "text/x-python",
   "name": "python",
   "nbconvert_exporter": "python",
   "pygments_lexer": "ipython3",
   "version": "3.8.8"
  }
 },
 "nbformat": 4,
 "nbformat_minor": 5
}
