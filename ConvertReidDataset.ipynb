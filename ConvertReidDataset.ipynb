{
 "cells": [
  {
   "cell_type": "code",
   "execution_count": 1,
   "id": "a871c74e",
   "metadata": {},
   "outputs": [
    {
     "ename": "ModuleNotFoundError",
     "evalue": "No module named 'cv2'",
     "output_type": "error",
     "traceback": [
      "\u001b[1;31m---------------------------------------------------------------------------\u001b[0m",
      "\u001b[1;31mModuleNotFoundError\u001b[0m                       Traceback (most recent call last)",
      "\u001b[1;32m<ipython-input-1-d67e7cfe6218>\u001b[0m in \u001b[0;36m<module>\u001b[1;34m\u001b[0m\n\u001b[0;32m      2\u001b[0m \u001b[1;32mimport\u001b[0m \u001b[0mglob\u001b[0m\u001b[1;33m\u001b[0m\u001b[1;33m\u001b[0m\u001b[0m\n\u001b[0;32m      3\u001b[0m \u001b[1;32mimport\u001b[0m \u001b[0mshutil\u001b[0m\u001b[1;33m\u001b[0m\u001b[1;33m\u001b[0m\u001b[0m\n\u001b[1;32m----> 4\u001b[1;33m \u001b[1;32mimport\u001b[0m \u001b[0mcv2\u001b[0m\u001b[1;33m\u001b[0m\u001b[1;33m\u001b[0m\u001b[0m\n\u001b[0m\u001b[0;32m      5\u001b[0m \u001b[1;32mfrom\u001b[0m \u001b[0mIPython\u001b[0m\u001b[1;33m.\u001b[0m\u001b[0mdisplay\u001b[0m \u001b[1;32mimport\u001b[0m \u001b[0mImage\u001b[0m\u001b[1;33m,\u001b[0m \u001b[0mdisplay\u001b[0m\u001b[1;33m\u001b[0m\u001b[1;33m\u001b[0m\u001b[0m\n",
      "\u001b[1;31mModuleNotFoundError\u001b[0m: No module named 'cv2'"
     ]
    }
   ],
   "source": [
    "import os\n",
    "import glob\n",
    "import shutil\n",
    "import cv2\n",
    "from IPython.display import Image, display"
   ]
  },
  {
   "cell_type": "code",
   "execution_count": 2,
   "id": "8c09b1de",
   "metadata": {},
   "outputs": [],
   "source": [
    "traindata_path = \"./traindata_for_stylegan3/\"\n",
    "os.makedirs(traindata_path, exist_ok=True)"
   ]
  },
  {
   "cell_type": "code",
   "execution_count": 3,
   "id": "00a33b84",
   "metadata": {},
   "outputs": [],
   "source": [
    "resize_ = 1024"
   ]
  },
  {
   "cell_type": "code",
   "execution_count": 10,
   "id": "76e9b442",
   "metadata": {},
   "outputs": [
    {
     "name": "stdout",
     "output_type": "stream",
     "text": [
      "Complete Convert\n"
     ]
    }
   ],
   "source": [
    "def imshow(img):\n",
    "    \"\"\"ndarray 配列をインラインで Notebook 上に表示する。\n",
    "    \"\"\"\n",
    "    ret, encoded = cv2.imencode(\".jpg\", img)\n",
    "    display(Image(encoded))\n",
    "\n",
    "\n",
    "def img_resize(img_path, copy_img_name):\n",
    "    # 画像を読み込む。\n",
    "    img = cv2.imread(img_path)\n",
    "    #max_size = max(img.shape[:2])\n",
    "    dst = cv2.resize(img, dsize=(resize_, resize_))\n",
    "    #print(f\"{img.shape} -> {dst.shape}\")\n",
    "    #imshow(dst)\n",
    "    cv2.imwrite(copy_img_name, dst)\n",
    "\n",
    "img_path_list = []\n",
    "dataset_types = glob.glob(\"./partial_dataset/*\")\n",
    "\n",
    "for dataset_type in dataset_types:\n",
    "    data_types = glob.glob(dataset_type+\"/*\")\n",
    "    for data_type in data_types:\n",
    "        if os.path.isfile(data_type):\n",
    "            continue\n",
    "        img_path = glob.glob(data_type+\"/*.jpg\")\n",
    "        img_path_list += list(img_path)\n",
    "img_num = 0     \n",
    "for img_path in img_path_list:\n",
    "    copy_img_name = traindata_path + str(img_num) + \"_\" +img_path.split(\"\\\\\")[-1]\n",
    "    img_num += 1\n",
    "    #print(copy_img_name)\n",
    "    #shutil.copyfile(img_path, copy_img_name)\n",
    "    img_resize(img_path, copy_img_name)\n",
    "print(\"Complete Convert\")"
   ]
  },
  {
   "cell_type": "code",
   "execution_count": 11,
   "id": "19b6586b",
   "metadata": {},
   "outputs": [
    {
     "data": {
      "text/plain": [
       "'C:\\\\Users\\\\windo\\\\Documents\\\\workspace\\\\StyleGAN3\\\\traindata_for_stylegan3.zip'"
      ]
     },
     "execution_count": 11,
     "metadata": {},
     "output_type": "execute_result"
    }
   ],
   "source": [
    "shutil.make_archive(traindata_path, 'zip', root_dir=traindata_path)"
   ]
  },
  {
   "cell_type": "code",
   "execution_count": null,
   "id": "b9c683d8",
   "metadata": {},
   "outputs": [],
   "source": []
  }
 ],
 "metadata": {
  "kernelspec": {
   "display_name": "Python 3",
   "language": "python",
   "name": "python3"
  },
  "language_info": {
   "codemirror_mode": {
    "name": "ipython",
    "version": 3
   },
   "file_extension": ".py",
   "mimetype": "text/x-python",
   "name": "python",
   "nbconvert_exporter": "python",
   "pygments_lexer": "ipython3",
   "version": "3.8.8"
  }
 },
 "nbformat": 4,
 "nbformat_minor": 5
}
