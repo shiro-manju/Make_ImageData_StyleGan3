{
 "cells": [
  {
   "cell_type": "code",
   "execution_count": 3,
   "id": "a871c74e",
   "metadata": {},
   "outputs": [],
   "source": [
    "import os\n",
    "import glob\n",
    "import shutil\n",
    "import cv2\n",
    "from IPython.display import Image, display"
   ]
  },
  {
   "cell_type": "code",
   "execution_count": 4,
   "id": "8c09b1de",
   "metadata": {},
   "outputs": [],
   "source": [
    "traindata_path = \"./traindata_for_stylegan3/\"\n",
    "os.makedirs(traindata_path, exist_ok=True)"
   ]
  },
  {
   "cell_type": "code",
   "execution_count": 5,
   "id": "00a33b84",
   "metadata": {},
   "outputs": [],
   "source": [
    "resize_ = 1024"
   ]
  },
  {
   "cell_type": "code",
   "execution_count": 9,
   "id": "76e9b442",
   "metadata": {},
   "outputs": [
    {
     "name": "stdout",
     "output_type": "stream",
     "text": [
      "Check iter:  100\n",
      "Check iter:  200\n",
      "Check iter:  300\n",
      "Check iter:  400\n",
      "Check iter:  500\n",
      "Check iter:  600\n",
      "Check iter:  700\n",
      "Check iter:  800\n",
      "Check iter:  900\n",
      "Check iter:  1000\n",
      "Check iter:  1100\n",
      "Check iter:  1200\n",
      "Check iter:  1300\n",
      "Check iter:  1400\n",
      "Check iter:  1500\n",
      "Check iter:  1600\n",
      "Check iter:  1700\n",
      "Check iter:  1800\n",
      "Check iter:  1900\n",
      "Check iter:  2000\n",
      "Check iter:  2100\n",
      "Check iter:  2200\n",
      "Check iter:  2300\n",
      "Check iter:  2400\n",
      "Check iter:  2500\n",
      "Check iter:  2600\n",
      "Check iter:  2700\n",
      "Check iter:  2800\n",
      "Complete Convert\n"
     ]
    }
   ],
   "source": [
    "def imshow(img):\n",
    "    \"\"\"ndarray 配列をインラインで Notebook 上に表示する。\n",
    "    \"\"\"\n",
    "    ret, encoded = cv2.imencode(\".jpg\", img)\n",
    "    display(Image(encoded))\n",
    "\n",
    "\n",
    "def img_resize(img_path, copy_img_name):\n",
    "    # 画像を読み込む。\n",
    "    img = cv2.imread(img_path)\n",
    "    #max_size = max(img.shape[:2])\n",
    "    dst = cv2.resize(img, dsize=(resize_, resize_))\n",
    "    #print(f\"{img.shape} -> {dst.shape}\")\n",
    "    #imshow(dst)\n",
    "    cv2.imwrite(copy_img_name, dst)\n",
    "    cv2.destroyAllWindows()\n",
    "\n",
    "img_path_list = []\n",
    "dataset_types = glob.glob(\"./partial_dataset/*\")\n",
    "\n",
    "for dataset_type in dataset_types:\n",
    "    data_types = glob.glob(dataset_type+\"/*\")\n",
    "    for data_type in data_types:\n",
    "        if os.path.isfile(data_type):\n",
    "            continue\n",
    "        img_path = glob.glob(data_type+\"/*.jpg\")\n",
    "        img_path_list += list(img_path)\n",
    "\n",
    "img_num = 0\n",
    "for img_path in img_path_list:\n",
    "    copy_img_name = traindata_path + str(img_num) + \"_\" +img_path.split(\"/\")[-1]\n",
    "    img_num += 1\n",
    "    #print(copy_img_name)\n",
    "    #shutil.copyfile(img_path, copy_img_name)\n",
    "    img_resize(img_path, copy_img_name)\n",
    "    if img_num % 300==0:\n",
    "        print(\"Check iter: \", img_num)\n",
    "print(\"Complete Convert\")"
   ]
  },
  {
   "cell_type": "code",
   "execution_count": 10,
   "id": "19b6586b",
   "metadata": {},
   "outputs": [
    {
     "data": {
      "text/plain": [
       "'/Users/kazuki.hirata.ke/Documents/workspace/Stylegan3/Make_ImageData_StyleGan3/traindata_for_stylegan3.zip'"
      ]
     },
     "execution_count": 10,
     "metadata": {},
     "output_type": "execute_result"
    }
   ],
   "source": [
    "shutil.make_archive(traindata_path, 'zip', root_dir=traindata_path)"
   ]
  }
 ],
 "metadata": {
  "kernelspec": {
   "display_name": "Python 3 (ipykernel)",
   "language": "python",
   "name": "python3"
  },
  "language_info": {
   "codemirror_mode": {
    "name": "ipython",
    "version": 3
   },
   "file_extension": ".py",
   "mimetype": "text/x-python",
   "name": "python",
   "nbconvert_exporter": "python",
   "pygments_lexer": "ipython3",
   "version": "3.8.11"
  }
 },
 "nbformat": 4,
 "nbformat_minor": 5
}
