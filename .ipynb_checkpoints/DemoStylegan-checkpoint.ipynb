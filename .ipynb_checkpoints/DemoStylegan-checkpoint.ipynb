{
 "cells": [
  {
   "cell_type": "code",
   "execution_count": 2,
   "id": "8e5150e7",
   "metadata": {},
   "outputs": [
    {
     "data": {
      "text/plain": [
       "'1.9.1+cpu'"
      ]
     },
     "execution_count": 2,
     "metadata": {},
     "output_type": "execute_result"
    }
   ],
   "source": [
    "import torch\n",
    "torch.__version__"
   ]
  },
  {
   "cell_type": "code",
   "execution_count": 3,
   "id": "ff81d1d9",
   "metadata": {},
   "outputs": [
    {
     "name": "stdout",
     "output_type": "stream",
     "text": [
      "True\n"
     ]
    }
   ],
   "source": [
    "print(torch.cuda.is_available())"
   ]
  },
  {
   "cell_type": "code",
   "execution_count": 2,
   "id": "9adeb648",
   "metadata": {},
   "outputs": [
    {
     "name": "stdout",
     "output_type": "stream",
     "text": [
      "C:\\Users\\windo\\Documents\\workspace\\StyleGAN3\\stylegan3\n"
     ]
    }
   ],
   "source": [
    "%cd ./stylegan3/"
   ]
  },
  {
   "cell_type": "markdown",
   "id": "6110a20e",
   "metadata": {},
   "source": [
    "## Getting Started"
   ]
  },
  {
   "cell_type": "code",
   "execution_count": 7,
   "id": "b97deb62",
   "metadata": {},
   "outputs": [
    {
     "name": "stdout",
     "output_type": "stream",
     "text": [
      "Loading networks from \"https://api.ngc.nvidia.com/v2/models/nvidia/research/stylegan3/versions/1/files/stylegan3-r-afhqv2-512x512.pkl\"...\n",
      "No CUDA runtime is found, using CUDA_HOME='C:\\Program Files\\NVIDIA GPU Computing Toolkit\\CUDA\\v11.3'\n"
     ]
    },
    {
     "name": "stderr",
     "output_type": "stream",
     "text": [
      "Traceback (most recent call last):\n",
      "  File \"gen_images.py\", line 143, in <module>\n",
      "    generate_images() # pylint: disable=no-value-for-parameter\n",
      "  File \"C:\\Users\\windo\\AppData\\Roaming\\Python\\Python38\\site-packages\\click\\core.py\", line 1128, in __call__\n",
      "    return self.main(*args, **kwargs)\n",
      "  File \"C:\\Users\\windo\\AppData\\Roaming\\Python\\Python38\\site-packages\\click\\core.py\", line 1053, in main\n",
      "    rv = self.invoke(ctx)\n",
      "  File \"C:\\Users\\windo\\AppData\\Roaming\\Python\\Python38\\site-packages\\click\\core.py\", line 1395, in invoke\n",
      "    return ctx.invoke(self.callback, **ctx.params)\n",
      "  File \"C:\\Users\\windo\\AppData\\Roaming\\Python\\Python38\\site-packages\\click\\core.py\", line 754, in invoke\n",
      "    return __callback(*args, **kwargs)\n",
      "  File \"gen_images.py\", line 108, in generate_images\n",
      "    G = legacy.load_network_pkl(f)['G_ema'].to(device) # type: ignore\n",
      "  File \"C:\\Users\\windo\\anaconda3\\envs\\TFver2\\lib\\site-packages\\torch\\nn\\modules\\module.py\", line 852, in to\n",
      "    return self._apply(convert)\n",
      "  File \"C:\\Users\\windo\\anaconda3\\envs\\TFver2\\lib\\site-packages\\torch\\nn\\modules\\module.py\", line 530, in _apply\n",
      "    module._apply(fn)\n",
      "  File \"C:\\Users\\windo\\anaconda3\\envs\\TFver2\\lib\\site-packages\\torch\\nn\\modules\\module.py\", line 530, in _apply\n",
      "    module._apply(fn)\n",
      "  File \"C:\\Users\\windo\\anaconda3\\envs\\TFver2\\lib\\site-packages\\torch\\nn\\modules\\module.py\", line 530, in _apply\n",
      "    module._apply(fn)\n",
      "  File \"C:\\Users\\windo\\anaconda3\\envs\\TFver2\\lib\\site-packages\\torch\\nn\\modules\\module.py\", line 552, in _apply\n",
      "    param_applied = fn(param)\n",
      "  File \"C:\\Users\\windo\\anaconda3\\envs\\TFver2\\lib\\site-packages\\torch\\nn\\modules\\module.py\", line 850, in convert\n",
      "    return t.to(device, dtype if t.is_floating_point() or t.is_complex() else None, non_blocking)\n",
      "  File \"C:\\Users\\windo\\anaconda3\\envs\\TFver2\\lib\\site-packages\\torch\\cuda\\__init__.py\", line 166, in _lazy_init\n",
      "    raise AssertionError(\"Torch not compiled with CUDA enabled\")\n",
      "AssertionError: Torch not compiled with CUDA enabled\n"
     ]
    }
   ],
   "source": [
    "!python gen_images.py --outdir=out --trunc=1 --seeds=2 \\\n",
    "    --network=https://api.ngc.nvidia.com/v2/models/nvidia/research/stylegan3/versions/1/files/stylegan3-r-afhqv2-512x512.pkl"
   ]
  },
  {
   "cell_type": "code",
   "execution_count": 6,
   "id": "068022f9",
   "metadata": {},
   "outputs": [
    {
     "name": "stdout",
     "output_type": "stream",
     "text": [
      "Collecting package metadata (current_repodata.json): ...working... done\n",
      "Solving environment: ...working... done\n",
      "\n",
      "# All requested packages already installed.\n",
      "\n"
     ]
    }
   ],
   "source": [
    "!conda install pytorch torchvision torchaudio cudatoolkit=11.3 -c pytorch"
   ]
  },
  {
   "cell_type": "code",
   "execution_count": null,
   "id": "58ac92a3",
   "metadata": {},
   "outputs": [],
   "source": []
  },
  {
   "cell_type": "code",
   "execution_count": null,
   "id": "0bbca665",
   "metadata": {},
   "outputs": [],
   "source": []
  },
  {
   "cell_type": "code",
   "execution_count": null,
   "id": "4366054a",
   "metadata": {},
   "outputs": [],
   "source": []
  }
 ],
 "metadata": {
  "kernelspec": {
   "display_name": "Python 3 (ipykernel)",
   "language": "python",
   "name": "python3"
  },
  "language_info": {
   "codemirror_mode": {
    "name": "ipython",
    "version": 3
   },
   "file_extension": ".py",
   "mimetype": "text/x-python",
   "name": "python",
   "nbconvert_exporter": "python",
   "pygments_lexer": "ipython3",
   "version": "3.8.12"
  }
 },
 "nbformat": 4,
 "nbformat_minor": 5
}
